{
 "cells": [
  {
   "cell_type": "code",
   "execution_count": 1,
   "metadata": {},
   "outputs": [],
   "source": [
    "import numpy as np\n",
    "import pandas as pd\n",
    "import matplotlib.pyplot as plt"
   ]
  },
  {
   "cell_type": "code",
   "execution_count": null,
   "metadata": {},
   "outputs": [],
   "source": [
    "dataset = pd.read_csv('US_Accidents_Dec20.csv')"
   ]
  },
  {
   "cell_type": "code",
   "execution_count": null,
   "metadata": {},
   "outputs": [],
   "source": [
    "dataset.head()"
   ]
  },
  {
   "cell_type": "code",
   "execution_count": null,
   "metadata": {},
   "outputs": [],
   "source": [
    "data_set = dataset.iloc[:500, [3,23,24,25,26,27,29]]\n",
    "data_set.head()"
   ]
  },
  {
   "cell_type": "code",
   "execution_count": null,
   "metadata": {},
   "outputs": [],
   "source": [
    "data_set.head()"
   ]
  },
  {
   "cell_type": "code",
   "execution_count": null,
   "metadata": {},
   "outputs": [],
   "source": [
    "X = data_set.iloc[:,1:].values\n",
    "Y = data_set.iloc[:,0].values\n",
    "from sklearn.impute import SimpleImputer\n",
    "imputer = SimpleImputer(missing_values = np.nan, strategy = \"mean\")\n",
    "imputer.fit(X[:,:])\n",
    "X[:,:] = imputer.transform(X[:,:])\n",
    "print(X)"
   ]
  },
  {
   "cell_type": "code",
   "execution_count": null,
   "metadata": {},
   "outputs": [],
   "source": [
    "from sklearn.model_selection import train_test_split\n",
    "X_train, X_test, Y_train, Y_test = train_test_split(X, Y, test_size = 0.2, random_state = 0)"
   ]
  },
  {
   "cell_type": "code",
   "execution_count": null,
   "metadata": {},
   "outputs": [],
   "source": [
    "#Random Forest\n",
    "from sklearn.preprocessing import StandardScaler\n",
    "sc = StandardScaler()\n",
    "X_train = sc.fit_transform(X_train)\n",
    "X_test = sc.transform(X_test)\n",
    "from sklearn.ensemble import RandomForestClassifier\n",
    "classifier = RandomForestClassifier(n_estimators = 12, criterion = 'entropy', random_state=0)\n",
    "classifier.fit(X_train, Y_train)\n",
    "Y_pred = classifier.predict(X_test)\n",
    "from sklearn.metrics import accuracy_score\n",
    "accuracy_score(Y_test, Y_pred)"
   ]
  },
  {
   "cell_type": "code",
   "execution_count": null,
   "metadata": {},
   "outputs": [],
   "source": [
    "def current_location():\n",
    "    import requests\n",
    "    r = requests.get('https://api.ipdata.co?api-key=31f7a5f46401e33ac72fca8d9242a023eea1ca8f4ff562f60b315a29').json()   \n",
    "    location = [r['city'], r['country_name']]\n",
    "\n",
    "    return location\n",
    "\n",
    "location = current_location()\n",
    "#location = ['New York', 'US']\n",
    "\n",
    "def weather_conditions(location):    \n",
    "    from pyowm.owm import OWM\n",
    "    owm = OWM('444fb686d7df51b68b9504b0eb2778f7')\n",
    "    mgr = owm.weather_manager()\n",
    "    place = str(location[0]+','+location[1])    \n",
    "    observation = mgr.weather_at_place(place)\n",
    "    weather = observation.weather\n",
    "    #observation = mgr.weather_at_place('New York','US')\n",
    "    weather.status           \n",
    "    weather.detailed_status\n",
    "    #temp\n",
    "    temp_k = weather.temperature()\n",
    "    Celsius = temp_k['temp'] - 273.15\n",
    "    Fahrenheit_t = Celsius*(9/5) + 32\n",
    "\n",
    "    #wind chill\n",
    "    temp_windchill = temp_k['feels_like'] - 273.15\n",
    "    Fahrenheit_wc = Celsius*(9/5) + 32\n",
    "\n",
    "    #humidity\n",
    "    humidity = weather.humidity\n",
    "\n",
    "    #pressure\n",
    "    press = weather.pressure\n",
    "    pressure = press['press']/51.715\n",
    "\n",
    "    #visibility\n",
    "    vis = weather.visibility_distance\n",
    "    visibility = vis/1609\n",
    "\n",
    "    #wind speed\n",
    "    wind_speed = weather.wind()['speed']\n",
    "\n",
    "    #parameters\n",
    "    parameters = [Fahrenheit_t,Fahrenheit_wc,humidity,pressure,visibility,wind_speed]\n",
    "    \n",
    "    return parameters"
   ]
  },
  {
   "cell_type": "code",
   "execution_count": null,
   "metadata": {},
   "outputs": [],
   "source": [
    "parameters = weather_conditions(location)\n",
    "severity = classifier.predict([parameters])"
   ]
  },
  {
   "cell_type": "code",
   "execution_count": null,
   "metadata": {},
   "outputs": [],
   "source": [
    "if(severity==1):\n",
    "    print(\"Probability of accident is too low\")\n",
    "    print()\n",
    "    print(\"Speed Limit must be below 80kmph\")\n",
    "elif(severity==2):\n",
    "    print(\"Probability of accident is moderate\")\n",
    "    print()\n",
    "    print(\"Speed Limit must be below 60kmph\")\n",
    "\n",
    "else:\n",
    "    print(\"This location is prone to accidents⚠\")\n",
    "    print()\n",
    "    print(\"Drive Safely!\")\n",
    "    print()\n",
    "    print(\"Speed Limit must be below 45kmph\")"
   ]
  }
 ],
 "metadata": {
  "kernelspec": {
   "display_name": "Python 3",
   "language": "python",
   "name": "python3"
  },
  "language_info": {
   "codemirror_mode": {
    "name": "ipython",
    "version": 3
   },
   "file_extension": ".py",
   "mimetype": "text/x-python",
   "name": "python",
   "nbconvert_exporter": "python",
   "pygments_lexer": "ipython3",
   "version": "3.8.5"
  }
 },
 "nbformat": 4,
 "nbformat_minor": 4
}
